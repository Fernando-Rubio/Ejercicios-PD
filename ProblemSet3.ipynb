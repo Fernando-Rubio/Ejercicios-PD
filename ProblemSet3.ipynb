{
 "cells": [
  {
   "cell_type": "markdown",
   "metadata": {},
   "source": [
    "# Declarative Programming @ URJC\n",
    "# Functional programming\n",
    "## Problem Set 3: Recursion"
   ]
  },
  {
   "cell_type": "code",
   "execution_count": 1,
   "metadata": {},
   "outputs": [
    {
     "data": {
      "text/plain": [
       "\u001b[32mimport \u001b[39m\u001b[36m$ivy.$                               \n",
       "\u001b[39m\r\n",
       "\u001b[32mimport \u001b[39m\u001b[36morg.scalatest._\u001b[39m"
      ]
     },
     "execution_count": 1,
     "metadata": {},
     "output_type": "execute_result"
    }
   ],
   "source": [
    "import $ivy.`org.scalatest::scalatest:3.0.8`\n",
    "import org.scalatest._"
   ]
  },
  {
   "cell_type": "markdown",
   "metadata": {},
   "source": [
    "# Problem 0"
   ]
  },
  {
   "cell_type": "markdown",
   "metadata": {},
   "source": [
    "Implement a function that drops the first _n_ elements of a list. If the number of elements to be dropped is 0, it must return the same list. The implementation must be tail-recursive."
   ]
  },
  {
   "cell_type": "code",
   "execution_count": 2,
   "metadata": {},
   "outputs": [
    {
     "data": {
      "text/plain": [
       "defined \u001b[32mclass\u001b[39m \u001b[36mTestDrop\u001b[39m"
      ]
     },
     "execution_count": 2,
     "metadata": {},
     "output_type": "execute_result"
    }
   ],
   "source": [
    "class TestDrop(\n",
    "    drop: (List[Boolean], Int) => List[Boolean]\n",
    ") extends FlatSpec with Matchers{\n",
    " \n",
    "    \"drop less elements than the list length\" should \"return the remaining elements\" in {\n",
    "        \n",
    "        drop(List(true, false), 0) shouldBe \n",
    "            List(true, false)\n",
    "        \n",
    "        drop(List(true, false, false, true), 2) shouldBe \n",
    "            List(false, true)\n",
    "        \n",
    "        drop(List(true, false, true, true, false, true), 3) shouldBe \n",
    "            List(true, false, true)\n",
    "    }\n",
    "    \n",
    "    \"drop a number of elements greater than or equal to its length\" should \"return the empty list\" in {\n",
    "        drop(List(), 0) shouldBe \n",
    "            List()\n",
    "    \n",
    "        drop(List(true, false, true, true, false, true), 6) shouldBe \n",
    "            List()\n",
    "\n",
    "        drop(List(), 2) shouldBe \n",
    "            List()\n",
    "        \n",
    "        drop(List(true, false, true, true, false, true), 8) shouldBe \n",
    "            List()\n",
    "    }\n",
    "}"
   ]
  },
  {
   "cell_type": "code",
   "execution_count": 3,
   "metadata": {},
   "outputs": [
    {
     "data": {
      "text/plain": [
       "defined \u001b[32mfunction\u001b[39m \u001b[36mdrop\u001b[39m"
      ]
     },
     "execution_count": 3,
     "metadata": {},
     "output_type": "execute_result"
    }
   ],
   "source": [
    "//@annotation.tailrec\n",
    "def drop[A](list: List[A], n: Int): List[A] = {   \n",
    "    def metodo_Aux(out: List[A], aux: Int): List[A] = {\n",
    "        if (aux == 0) {out}\n",
    "        else{ \n",
    "            out match{\n",
    "                case Nil => metodo_Aux(out, aux - 1)\n",
    "                case h :: t =>\n",
    "                    metodo_Aux(t, aux - 1)\n",
    "            }\n",
    "        }\n",
    "    }\n",
    "    metodo_Aux(list, n)\n",
    "}"
   ]
  },
  {
   "cell_type": "code",
   "execution_count": 4,
   "metadata": {},
   "outputs": [
    {
     "name": "stdout",
     "output_type": "stream",
     "text": [
      "\u001b[32mcmd1$Helper$TestDrop:\u001b[0m\n",
      "\u001b[32mdrop less elements than the list length\u001b[0m\n",
      "\u001b[32m- should return the remaining elements\u001b[0m\n",
      "\u001b[32mdrop a number of elements greater than or equal to its length\u001b[0m\n",
      "\u001b[32m- should return the empty list\u001b[0m\n"
     ]
    }
   ],
   "source": [
    "run(new TestDrop(drop))"
   ]
  },
  {
   "cell_type": "markdown",
   "metadata": {},
   "source": [
    "# Problem 1"
   ]
  },
  {
   "cell_type": "markdown",
   "metadata": {},
   "source": [
    "Create a function that counts the number of occurrences of a given element in a list."
   ]
  },
  {
   "cell_type": "code",
   "execution_count": 6,
   "metadata": {},
   "outputs": [
    {
     "data": {
      "text/plain": [
       "defined \u001b[32mclass\u001b[39m \u001b[36mTestOcurrences\u001b[39m"
      ]
     },
     "execution_count": 6,
     "metadata": {},
     "output_type": "execute_result"
    }
   ],
   "source": [
    "case class TestOcurrences(\n",
    "    occurrences: (List[String], String) => Int) \n",
    "extends FlatSpec with Matchers{\n",
    "    \n",
    "    \"occurrences\" should \"work\" in {\n",
    "        occurrences(List(\"1\",\"1\",\"1\"), \"1\") shouldBe 3\n",
    "        occurrences(List(\"1\",\"2\",\"3\"), \"2\") shouldBe 1\n",
    "        occurrences(List(), \"3\") shouldBe 0\n",
    "        occurrences(List(\"1\",\"2\",\"3\"), \"5\") shouldBe 0\n",
    "    }\n",
    "}"
   ]
  },
  {
   "cell_type": "markdown",
   "metadata": {},
   "source": [
    "#### Part a) Implement the function recursively, without tail-recursion"
   ]
  },
  {
   "cell_type": "code",
   "execution_count": 5,
   "metadata": {},
   "outputs": [
    {
     "data": {
      "text/plain": [
       "defined \u001b[32mfunction\u001b[39m \u001b[36moccurrencesR\u001b[39m"
      ]
     },
     "execution_count": 5,
     "metadata": {},
     "output_type": "execute_result"
    }
   ],
   "source": [
    "def occurrencesR[A](list: List[A], a: A): Int = \n",
    "    list match{\n",
    "        case Nil => 0\n",
    "        case h :: t =>\n",
    "        if (h == a)\n",
    "            1 + occurrencesR(t, a)\n",
    "        else\n",
    "            occurrencesR(t, a)\n",
    "    }"
   ]
  },
  {
   "cell_type": "code",
   "execution_count": 7,
   "metadata": {},
   "outputs": [
    {
     "name": "stdout",
     "output_type": "stream",
     "text": [
      "\u001b[32mcmd5$Helper$TestOcurrences:\u001b[0m\n",
      "\u001b[32moccurrences\u001b[0m\n",
      "\u001b[32m- should work\u001b[0m\n"
     ]
    }
   ],
   "source": [
    "run(TestOcurrences(occurrencesR[String]))"
   ]
  },
  {
   "cell_type": "markdown",
   "metadata": {},
   "source": [
    "#### Part b) Implement the function with tail-recursion"
   ]
  },
  {
   "cell_type": "code",
   "execution_count": 8,
   "metadata": {},
   "outputs": [
    {
     "data": {
      "text/plain": [
       "defined \u001b[32mfunction\u001b[39m \u001b[36moccurrencesTR\u001b[39m"
      ]
     },
     "execution_count": 8,
     "metadata": {},
     "output_type": "execute_result"
    }
   ],
   "source": [
    "def occurrencesTR[A](list: List[A], a: A): Int = {\n",
    "    def metodo_Aux(out: Int, aux: List[A], a: A): Int = {\n",
    "        aux match{\n",
    "            case Nil => out\n",
    "            case h :: t =>\n",
    "                if (h == a)\n",
    "                    metodo_Aux(out+1, t, a)\n",
    "                else\n",
    "                    metodo_Aux(out, t, a)\n",
    "        }\n",
    "    }\n",
    "    metodo_Aux(0, list, a)\n",
    "}"
   ]
  },
  {
   "cell_type": "code",
   "execution_count": 9,
   "metadata": {},
   "outputs": [
    {
     "name": "stdout",
     "output_type": "stream",
     "text": [
      "\u001b[32mcmd5$Helper$TestOcurrences:\u001b[0m\n",
      "\u001b[32moccurrences\u001b[0m\n",
      "\u001b[32m- should work\u001b[0m\n"
     ]
    }
   ],
   "source": [
    "run(TestOcurrences(occurrencesTR[String]))"
   ]
  },
  {
   "cell_type": "markdown",
   "metadata": {},
   "source": [
    "# Problem 2"
   ]
  },
  {
   "cell_type": "markdown",
   "metadata": {},
   "source": [
    "Generate a function that takes the first *n* elements of a list. If the length of the list is less than _n_ it must return the input list (i.e. as many elements as there are)."
   ]
  },
  {
   "cell_type": "code",
   "execution_count": 24,
   "metadata": {},
   "outputs": [
    {
     "data": {
      "text/plain": [
       "defined \u001b[32mclass\u001b[39m \u001b[36mTestTake\u001b[39m"
      ]
     },
     "execution_count": 24,
     "metadata": {},
     "output_type": "execute_result"
    }
   ],
   "source": [
    "class TestTake(\n",
    "    take: (List[Char], Int) => List[Char]\n",
    ") extends FlatSpec with Matchers{\n",
    "    \n",
    "    \"take\" should \"work\" in {\n",
    "        take(List(), 0) shouldBe List()\n",
    "        take(List(), 5) shouldBe List()\n",
    "        take(List('1','2','3'), 0) shouldBe List()\n",
    "        take(List('1','2','3'), 2) shouldBe List('1','2')\n",
    "        take(List('1','2','3'), 3) shouldBe List('1','2','3')\n",
    "        take(List('1','2','3'), 10) shouldBe List('1','2','3')\n",
    "    }\n",
    "}"
   ]
  },
  {
   "cell_type": "markdown",
   "metadata": {},
   "source": [
    "The function does not need to be tail-recursive."
   ]
  },
  {
   "cell_type": "code",
   "execution_count": 13,
   "metadata": {},
   "outputs": [
    {
     "data": {
      "text/plain": [
       "defined \u001b[32mfunction\u001b[39m \u001b[36mtakeR\u001b[39m"
      ]
     },
     "execution_count": 13,
     "metadata": {},
     "output_type": "execute_result"
    }
   ],
   "source": [
    "def takeR[A](list: List[A], n: Int): List[A] =     \n",
    "    list match{\n",
    "        case Nil => list\n",
    "        case h :: t =>\n",
    "            if(n > 1)\n",
    "                h :: takeR(t, n-1)\n",
    "            else if (n == 1)\n",
    "                List(h)\n",
    "            else\n",
    "                List()\n",
    "    }"
   ]
  },
  {
   "cell_type": "code",
   "execution_count": 14,
   "metadata": {},
   "outputs": [
    {
     "name": "stdout",
     "output_type": "stream",
     "text": [
      "\u001b[32mcmd9$Helper$TestTake:\u001b[0m\n",
      "\u001b[32mtake\u001b[0m\n",
      "\u001b[32m- should work\u001b[0m\n"
     ]
    }
   ],
   "source": [
    "run(new TestTake(takeR))"
   ]
  },
  {
   "cell_type": "code",
   "execution_count": 58,
   "metadata": {},
   "outputs": [
    {
     "data": {
      "text/plain": [
       "defined \u001b[32mfunction\u001b[39m \u001b[36mtakeTR\u001b[39m"
      ]
     },
     "execution_count": 58,
     "metadata": {},
     "output_type": "execute_result"
    }
   ],
   "source": [
    "def takeTR[A](list: List[A], n: Int): List[A] = {    \n",
    "    def metodo_Aux(out: List[A], aux: List[A], i: Int): List[A] = {\n",
    "        if(i == 0) out.reverse  //out\n",
    "        else\n",
    "            aux match{\n",
    "                case Nil => out.reverse //out\n",
    "                case h :: t =>\n",
    "                    metodo_Aux(h :: out /*++ List(h)*/, t, i-1)\n",
    "            }\n",
    "    }\n",
    "    metodo_Aux(List(), list, n)\n",
    "}"
   ]
  },
  {
   "cell_type": "code",
   "execution_count": 59,
   "metadata": {},
   "outputs": [
    {
     "name": "stdout",
     "output_type": "stream",
     "text": [
      "\u001b[32mcmd23$Helper$TestTake:\u001b[0m\n",
      "\u001b[32mtake\u001b[0m\n",
      "\u001b[32m- should work\u001b[0m\n"
     ]
    }
   ],
   "source": [
    "run(new TestTake(takeTR))"
   ]
  },
  {
   "cell_type": "markdown",
   "metadata": {},
   "source": [
    "# Problem 3"
   ]
  },
  {
   "cell_type": "markdown",
   "metadata": {},
   "source": [
    "Write a function that partitions a list of integers into a list of even numbers and a list of odd numbers. "
   ]
  },
  {
   "cell_type": "code",
   "execution_count": 30,
   "metadata": {},
   "outputs": [
    {
     "data": {
      "text/plain": [
       "defined \u001b[32mclass\u001b[39m \u001b[36mTestEvenOddPartition\u001b[39m"
      ]
     },
     "execution_count": 30,
     "metadata": {},
     "output_type": "execute_result"
    }
   ],
   "source": [
    "class TestEvenOddPartition(\n",
    "    candidate: List[Int] => (List[Int], List[Int])\n",
    ") extends FlatSpec with Matchers{\n",
    "    \n",
    "    \"partitionEvenOdd\" should \"work\" in {\n",
    "        candidate(List()) shouldBe (List(), List())\n",
    "        candidate(List(1,3,5)) shouldBe (List(1,3,5), List())\n",
    "        candidate(List(0,2,4,6)) shouldBe (List(), List(0,2,4,6))\n",
    "        candidate(List(1,2,3,4,5)) shouldBe (List(1,3,5), List(2,4))\n",
    "    }\n",
    "}"
   ]
  },
  {
   "cell_type": "markdown",
   "metadata": {},
   "source": [
    "Recall that given a [2-tuple](https://www.scala-lang.org/api/current/scala/Tuple2.html) in Scala, we can observe its components as follows:"
   ]
  },
  {
   "cell_type": "code",
   "execution_count": 31,
   "metadata": {},
   "outputs": [
    {
     "data": {
      "text/plain": [
       "\u001b[36mt2\u001b[39m: (\u001b[32mInt\u001b[39m, \u001b[32mString\u001b[39m) = (\u001b[32m3\u001b[39m, \u001b[32m\"tres\"\u001b[39m)\r\n",
       "\u001b[36mn\u001b[39m: \u001b[32mInt\u001b[39m = \u001b[32m3\u001b[39m\r\n",
       "\u001b[36ms\u001b[39m: \u001b[32mString\u001b[39m = \u001b[32m\"tres\"\u001b[39m\r\n",
       "\u001b[36mn1\u001b[39m: \u001b[32mInt\u001b[39m = \u001b[32m3\u001b[39m\r\n",
       "\u001b[36ms1\u001b[39m: \u001b[32mString\u001b[39m = \u001b[32m\"tres\"\u001b[39m"
      ]
     },
     "execution_count": 31,
     "metadata": {},
     "output_type": "execute_result"
    }
   ],
   "source": [
    "val t2: (Int, String) = (3, \"tres\")\n",
    "val n: Int = t2._1\n",
    "val s: String = t2._2\n",
    "val (n1: Int, s1: String) = t2"
   ]
  },
  {
   "cell_type": "markdown",
   "metadata": {},
   "source": [
    "The function does not need to be tail-recursive."
   ]
  },
  {
   "cell_type": "code",
   "execution_count": 33,
   "metadata": {},
   "outputs": [
    {
     "data": {
      "text/plain": [
       "defined \u001b[32mfunction\u001b[39m \u001b[36mpartitionEvenOddR\u001b[39m"
      ]
     },
     "execution_count": 33,
     "metadata": {},
     "output_type": "execute_result"
    }
   ],
   "source": [
    "def partitionEvenOddR(list: List[Int]): (List[Int], List[Int]) = \n",
    "    list match{\n",
    "        case Nil => (List(), List())\n",
    "        case h :: t =>\n",
    "            val solTail:  (List[Int], List[Int]) = partitionEvenOddR(t)\n",
    "            if (h % 2 != 0)\n",
    "                (h :: solTail._1, solTail._2)\n",
    "            else\n",
    "                (solTail._1, h :: solTail._2)\n",
    "\n",
    "    }"
   ]
  },
  {
   "cell_type": "code",
   "execution_count": 34,
   "metadata": {},
   "outputs": [
    {
     "name": "stdout",
     "output_type": "stream",
     "text": [
      "\u001b[32mcmd29$Helper$TestEvenOddPartition:\u001b[0m\n",
      "\u001b[32mpartitionEvenOdd\u001b[0m\n",
      "\u001b[32m- should work\u001b[0m\n"
     ]
    }
   ],
   "source": [
    "run(new TestEvenOddPartition(partitionEvenOddR))"
   ]
  },
  {
   "cell_type": "code",
   "execution_count": 47,
   "metadata": {},
   "outputs": [
    {
     "data": {
      "text/plain": [
       "defined \u001b[32mfunction\u001b[39m \u001b[36mpartitionEvenOddTR\u001b[39m"
      ]
     },
     "execution_count": 47,
     "metadata": {},
     "output_type": "execute_result"
    }
   ],
   "source": [
    "def partitionEvenOddTR(list: List[Int]): (List[Int], List[Int]) = {\n",
    "    def metodo_Aux(out: (List[Int], List[Int]), aux: List[Int]): (List[Int], List[Int]) = {\n",
    "        aux match{\n",
    "            //case Nil => out\n",
    "            case Nil => (out._1.reverse, out._2.reverse)\n",
    "            case h :: t =>\n",
    "            if (h % 2 != 0)\n",
    "                //metodo_Aux((out._1 ++ List(h), out._2), t)\n",
    "                metodo_Aux((h :: out._1, out._2), t)\n",
    "            else\n",
    "                //metodo_Aux((out._1, out._2 ++ List(h)), t)\n",
    "                metodo_Aux((out._1, h :: out._2), t)\n",
    "        }\n",
    "    }\n",
    "    metodo_Aux((List(),List()), list)\n",
    "}"
   ]
  },
  {
   "cell_type": "code",
   "execution_count": 48,
   "metadata": {},
   "outputs": [
    {
     "name": "stdout",
     "output_type": "stream",
     "text": [
      "\u001b[32mcmd29$Helper$TestEvenOddPartition:\u001b[0m\n",
      "\u001b[32mpartitionEvenOdd\u001b[0m\n",
      "\u001b[32m- should work\u001b[0m\n"
     ]
    }
   ],
   "source": [
    "run(new TestEvenOddPartition(partitionEvenOddTR))"
   ]
  },
  {
   "cell_type": "markdown",
   "metadata": {},
   "source": [
    "# Problem 4"
   ]
  },
  {
   "cell_type": "markdown",
   "metadata": {},
   "source": [
    "Write a funtion that receives a list of pairs of integers and returns a new list made from the sum of all pairs."
   ]
  },
  {
   "cell_type": "code",
   "execution_count": 40,
   "metadata": {},
   "outputs": [
    {
     "data": {
      "text/plain": [
       "defined \u001b[32mclass\u001b[39m \u001b[36mTestSum\u001b[39m"
      ]
     },
     "execution_count": 40,
     "metadata": {},
     "output_type": "execute_result"
    }
   ],
   "source": [
    "class TestSum(\n",
    "    sum: List[(Int, Int)] => List[Int]\n",
    ") extends FlatSpec with Matchers{\n",
    "    \n",
    "    \"sum\" should \"work\" in {\n",
    "        sum(List()) shouldBe List()\n",
    "        sum(List((0,0))) shouldBe List(0)\n",
    "        sum(List((1,2), (3,4), (5,6))) shouldBe List(3, 7, 11)\n",
    "    }\n",
    "}"
   ]
  },
  {
   "cell_type": "markdown",
   "metadata": {},
   "source": [
    "The function does not need to be tail-recursive."
   ]
  },
  {
   "cell_type": "code",
   "execution_count": 41,
   "metadata": {},
   "outputs": [
    {
     "data": {
      "text/plain": [
       "defined \u001b[32mfunction\u001b[39m \u001b[36msumR\u001b[39m"
      ]
     },
     "execution_count": 41,
     "metadata": {},
     "output_type": "execute_result"
    }
   ],
   "source": [
    "def sumR(list: List[(Int, Int)]): List[Int] = \n",
    "    list match{\n",
    "        case Nil => Nil\n",
    "        case h :: t =>\n",
    "            val tailSol: List[Int] =  sumR(t)\n",
    "            (h._1 + h._2) :: tailSol\n",
    "    }"
   ]
  },
  {
   "cell_type": "code",
   "execution_count": 42,
   "metadata": {},
   "outputs": [
    {
     "name": "stdout",
     "output_type": "stream",
     "text": [
      "\u001b[32mcmd39$Helper$TestSum:\u001b[0m\n",
      "\u001b[32msum\u001b[0m\n",
      "\u001b[32m- should work\u001b[0m\n"
     ]
    }
   ],
   "source": [
    "run(new TestSum(sumR))"
   ]
  },
  {
   "cell_type": "code",
   "execution_count": 45,
   "metadata": {},
   "outputs": [
    {
     "data": {
      "text/plain": [
       "defined \u001b[32mfunction\u001b[39m \u001b[36msumTR\u001b[39m"
      ]
     },
     "execution_count": 45,
     "metadata": {},
     "output_type": "execute_result"
    }
   ],
   "source": [
    "def sumTR(list: List[(Int, Int)]): List[Int] = {\n",
    "    def metodo_Aux(out: List[Int], aux: List[(Int, Int)]): List[Int] = {\n",
    "        aux match{\n",
    "            case Nil => out.reverse\n",
    "            case h :: t =>\n",
    "                metodo_Aux((h._1 + h._2) :: out, t)\n",
    "        }\n",
    "    }\n",
    "    metodo_Aux(List(), list)\n",
    "}"
   ]
  },
  {
   "cell_type": "code",
   "execution_count": 46,
   "metadata": {},
   "outputs": [
    {
     "name": "stdout",
     "output_type": "stream",
     "text": [
      "\u001b[32mcmd39$Helper$TestSum:\u001b[0m\n",
      "\u001b[32msum\u001b[0m\n",
      "\u001b[32m- should work\u001b[0m\n"
     ]
    }
   ],
   "source": [
    "run(new TestSum(sumTR))"
   ]
  },
  {
   "cell_type": "markdown",
   "metadata": {},
   "source": [
    "# Problem 5"
   ]
  },
  {
   "cell_type": "markdown",
   "metadata": {},
   "source": [
    "Write a function that receives two lists and returns a single list whose elements are pairs made from the corresponding elements of each list."
   ]
  },
  {
   "cell_type": "code",
   "execution_count": 42,
   "metadata": {},
   "outputs": [
    {
     "data": {
      "text/plain": [
       "defined \u001b[32mclass\u001b[39m \u001b[36mTestZip\u001b[39m"
      ]
     },
     "execution_count": 42,
     "metadata": {},
     "output_type": "execute_result"
    }
   ],
   "source": [
    "class TestZip(\n",
    "    zip: (List[Int], List[Char]) => List[(Int, Char)]\n",
    ") extends FlatSpec with Matchers{\n",
    "    \n",
    "    \"zip\" should \"work\" in {\n",
    "        zip(List(), List()) shouldBe List()\n",
    "        zip(List(), List('a','b')) shouldBe List()\n",
    "        zip(List(1,2,3), List()) shouldBe List()\n",
    "        zip(List(1,2,3), List('a','b','c')) shouldBe\n",
    "            List((1,'a'), (2,'b'), (3, 'c'))\n",
    "        zip(List(1,2), List('a','b','c')) shouldBe\n",
    "            List((1,'a'), (2,'b'))\n",
    "        zip(List(1,2,3), List('a','b')) shouldBe\n",
    "            List((1,'a'), (2,'b'))\n",
    "    }\n",
    "}\n"
   ]
  },
  {
   "cell_type": "markdown",
   "metadata": {},
   "source": [
    "The function does not need to be tail-recursive."
   ]
  },
  {
   "cell_type": "code",
   "execution_count": 50,
   "metadata": {},
   "outputs": [
    {
     "data": {
      "text/plain": [
       "defined \u001b[32mfunction\u001b[39m \u001b[36mzipR\u001b[39m"
      ]
     },
     "execution_count": 50,
     "metadata": {},
     "output_type": "execute_result"
    }
   ],
   "source": [
    "def zipR[A, B](list1: List[A], list2: List[B]): List[(A, B)] = \n",
    "    list1 match{\n",
    "        case Nil => Nil\n",
    "        case h1 :: t1 =>\n",
    "            list2 match{\n",
    "                case Nil => Nil\n",
    "                case h2 :: t2 =>\n",
    "//                     val tailSol: List[(A, B)] = zipR(t1, t2)\n",
    "                    (h1, h2) :: zipR(t1, t2) //tailSol\n",
    "            }\n",
    "    }"
   ]
  },
  {
   "cell_type": "code",
   "execution_count": 48,
   "metadata": {},
   "outputs": [
    {
     "data": {
      "text/plain": [
       "defined \u001b[32mfunction\u001b[39m \u001b[36mzipR\u001b[39m"
      ]
     },
     "execution_count": 48,
     "metadata": {},
     "output_type": "execute_result"
    }
   ],
   "source": [
    "def zipR[A, B](list1: List[A], list2: List[B]): List[(A, B)] = \n",
    "    (list1, list2) match{\n",
    "        case (h1 :: t1, h2 :: t2) => \n",
    "            (h1, h2) :: zipR(t1, t2)\n",
    "        case _ =>  List()\n",
    "    }"
   ]
  },
  {
   "cell_type": "code",
   "execution_count": 51,
   "metadata": {},
   "outputs": [
    {
     "name": "stdout",
     "output_type": "stream",
     "text": [
      "\u001b[32mcmd41$Helper$TestZip:\u001b[0m\n",
      "\u001b[32mzip\u001b[0m\n",
      "\u001b[32m- should work\u001b[0m\n"
     ]
    }
   ],
   "source": [
    "run(new TestZip(zipR))"
   ]
  },
  {
   "cell_type": "code",
   "execution_count": 54,
   "metadata": {},
   "outputs": [
    {
     "data": {
      "text/plain": [
       "defined \u001b[32mfunction\u001b[39m \u001b[36mzipTR\u001b[39m"
      ]
     },
     "execution_count": 54,
     "metadata": {},
     "output_type": "execute_result"
    }
   ],
   "source": [
    "def zipTR[A, B](list1: List[A], list2: List[B]): List[(A, B)] = {\n",
    "    def f(out: List[(A, B)], tup: (List[A], List[B])): List[(A, B)] = {\n",
    "        tup match{\n",
    "            //case (Nil, Nil) => out.reverse\n",
    "            //case (Nil, h :: t) => out.reverse\n",
    "            //case (h :: t, Nil) => out.reverse\n",
    "            case (h1 :: t1, h2 :: t2) =>\n",
    "                f((h1, h2) :: out, (t1,t2))\n",
    "            case _ => out.reverse\n",
    "        }\n",
    "    }\n",
    "    \n",
    "    f(List(), (list1, list2))\n",
    "}"
   ]
  },
  {
   "cell_type": "code",
   "execution_count": 55,
   "metadata": {},
   "outputs": [
    {
     "name": "stdout",
     "output_type": "stream",
     "text": [
      "\u001b[32mcmd41$Helper$TestZip:\u001b[0m\n",
      "\u001b[32mzip\u001b[0m\n",
      "\u001b[32m- should work\u001b[0m\n"
     ]
    }
   ],
   "source": [
    "run(new TestZip(zipTR))"
   ]
  },
  {
   "cell_type": "markdown",
   "metadata": {},
   "source": [
    "# Problem 6"
   ]
  },
  {
   "cell_type": "markdown",
   "metadata": {},
   "source": [
    "Write a function that returns the greatest element of a list of integers."
   ]
  },
  {
   "cell_type": "code",
   "execution_count": 38,
   "metadata": {},
   "outputs": [
    {
     "data": {
      "text/plain": [
       "defined \u001b[32mclass\u001b[39m \u001b[36mTestGreatest\u001b[39m"
      ]
     },
     "execution_count": 38,
     "metadata": {},
     "output_type": "execute_result"
    }
   ],
   "source": [
    "class TestGreatest(\n",
    "    greatest: List[Int] => Option[Int]\n",
    ") extends FlatSpec with Matchers{\n",
    "    \n",
    "    \"greatest of an empty list\" should \"return None\" in {\n",
    "        greatest(List()) shouldBe None\n",
    "    }\n",
    "    \n",
    "    \"greatest of a non-empty list\" should \"return the greatest one\" in {\n",
    "        greatest(List(1,2,3)) shouldBe Some(3)\n",
    "        greatest(List(3,2,1)) shouldBe Some(3)\n",
    "        greatest(List(1)) shouldBe Some(1)\n",
    "    }\n",
    "}"
   ]
  },
  {
   "cell_type": "markdown",
   "metadata": {},
   "source": [
    "Use pattern guards when possible. This is an example of pattern guard:"
   ]
  },
  {
   "cell_type": "code",
   "execution_count": null,
   "metadata": {},
   "outputs": [],
   "source": [
    "val maybeInt: Option[Int] = Some(4)\n",
    "    maybeInt match {\n",
    "        case Some(i) if i>3 => true\n",
    "        // for any other case, no matter if some(_) or None\n",
    "        case _ => false\n",
    "    }"
   ]
  },
  {
   "cell_type": "markdown",
   "metadata": {},
   "source": [
    "#### Part a) Implement the function recursively, without tail-recursion"
   ]
  },
  {
   "cell_type": "code",
   "execution_count": 17,
   "metadata": {},
   "outputs": [
    {
     "data": {
      "text/plain": [
       "defined \u001b[32mfunction\u001b[39m \u001b[36mgreatest\u001b[39m"
      ]
     },
     "execution_count": 17,
     "metadata": {},
     "output_type": "execute_result"
    }
   ],
   "source": [
    "def greatest(list: List[Int]): Option[Int] = \n",
    "    list match{\n",
    "        case Nil => None\n",
    "        case h :: Nil => Some(h)\n",
    "        case h :: t =>\n",
    "            val solTail: Option[Int] = greatest(t)\n",
    "            solTail match {\n",
    "                case Some(i)\n",
    "                    if i > h => Some(i)\n",
    "                case Some(i) => Some(h)\n",
    "            }\n",
    "     }"
   ]
  },
  {
   "cell_type": "code",
   "execution_count": 39,
   "metadata": {},
   "outputs": [
    {
     "name": "stdout",
     "output_type": "stream",
     "text": [
      "\u001b[32mcmd37$Helper$TestGreatest:\u001b[0m\n",
      "\u001b[32mgreatest of an empty list\u001b[0m\n",
      "\u001b[32m- should return None\u001b[0m\n",
      "\u001b[32mgreatest of a non-empty list\u001b[0m\n",
      "\u001b[32m- should return the greatest one\u001b[0m\n"
     ]
    }
   ],
   "source": [
    "run(new TestGreatest(greatest))"
   ]
  },
  {
   "cell_type": "markdown",
   "metadata": {},
   "source": [
    "#### Part b) Implement the function with tail-recursion"
   ]
  },
  {
   "cell_type": "code",
   "execution_count": 43,
   "metadata": {},
   "outputs": [
    {
     "data": {
      "text/plain": [
       "defined \u001b[32mfunction\u001b[39m \u001b[36mgreatestTR\u001b[39m"
      ]
     },
     "execution_count": 43,
     "metadata": {},
     "output_type": "execute_result"
    }
   ],
   "source": [
    "def greatestTR(list: List[Int]): Option[Int] = {\n",
    "    def f(out: Option[Int], aux: List[Int]): Option[Int] ={\n",
    "        aux match{\n",
    "            case Nil => out\n",
    "            case h :: t =>\n",
    "                val res = f(Some(h), t)\n",
    "                res match {\n",
    "                    case Some(i)\n",
    "                        if i > h => Some(i)\n",
    "                    case _ => Some(h)\n",
    "                }           \n",
    "        }\n",
    "    }    \n",
    "    f(None, list)\n",
    "}"
   ]
  },
  {
   "cell_type": "code",
   "execution_count": 40,
   "metadata": {},
   "outputs": [
    {
     "name": "stdout",
     "output_type": "stream",
     "text": [
      "\u001b[32mcmd37$Helper$TestGreatest:\u001b[0m\n",
      "\u001b[32mgreatest of an empty list\u001b[0m\n",
      "\u001b[32m- should return None\u001b[0m\n",
      "\u001b[32mgreatest of a non-empty list\u001b[0m\n",
      "\u001b[32m- should return the greatest one\u001b[0m\n"
     ]
    }
   ],
   "source": [
    "run(new TestGreatest(greatestTR))"
   ]
  },
  {
   "cell_type": "markdown",
   "metadata": {},
   "source": [
    "# Problem 7"
   ]
  },
  {
   "cell_type": "markdown",
   "metadata": {},
   "source": [
    "Create a function that given a list of strings or integers, returns the concatenation of all the string elements. If the list doesn't contain any string, it must return the empty string."
   ]
  },
  {
   "cell_type": "code",
   "execution_count": 41,
   "metadata": {},
   "outputs": [
    {
     "data": {
      "text/plain": [
       "defined \u001b[32mclass\u001b[39m \u001b[36mTestConcatenate\u001b[39m"
      ]
     },
     "execution_count": 41,
     "metadata": {},
     "output_type": "execute_result"
    }
   ],
   "source": [
    "class TestConcatenate(\n",
    "    conc: List[Either[String, Int]] => String\n",
    ") extends FlatSpec with Matchers {\n",
    "    \n",
    "    \"concatenate\" should \"work\" in {\n",
    "        conc(List()) shouldBe \"\" \n",
    "        conc(List(Right(1), Right(2), Right(3))) shouldBe \"\"\n",
    "        conc(List(Left(\"hello\"), Left(\", \"), Left(\"world!\"))) shouldBe \n",
    "            \"hello, world!\"\n",
    "        conc(List(Right(1), Left(\"hello\"), Right(2), \n",
    "                  Left(\", \"), Left(\"world!\"), Right(5))) shouldBe \n",
    "            \"hello, world!\"\n",
    "        \n",
    "    }\n",
    "}"
   ]
  },
  {
   "cell_type": "markdown",
   "metadata": {},
   "source": [
    "Recall the definition of the [`Either[A, B]`](https://www.scala-lang.org/api/current/scala/util/Either.html) algebraic data type in the Scala API. "
   ]
  },
  {
   "cell_type": "markdown",
   "metadata": {},
   "source": [
    "The function does not need to be tail-recursive."
   ]
  },
  {
   "cell_type": "code",
   "execution_count": 50,
   "metadata": {},
   "outputs": [
    {
     "data": {
      "text/plain": [
       "defined \u001b[32mfunction\u001b[39m \u001b[36mconcatenate\u001b[39m"
      ]
     },
     "execution_count": 50,
     "metadata": {},
     "output_type": "execute_result"
    }
   ],
   "source": [
    "def concatenate(list: List[Either[String, Int]]): String =\n",
    "    list match{\n",
    "        case Nil => {\"\"}\n",
    "        case h :: t =>\n",
    "            //val solTail: String => concatenate(t)\n",
    "            h match{\n",
    "                case Left(s) => s + concatenate(t)\n",
    "                case _ => concatenate(t)\n",
    "            }\n",
    "    }"
   ]
  },
  {
   "cell_type": "code",
   "execution_count": 51,
   "metadata": {},
   "outputs": [
    {
     "name": "stdout",
     "output_type": "stream",
     "text": [
      "\u001b[32mcmd40$Helper$TestConcatenate:\u001b[0m\n",
      "\u001b[32mconcatenate\u001b[0m\n",
      "\u001b[32m- should work\u001b[0m\n"
     ]
    }
   ],
   "source": [
    "run(new TestConcatenate(concatenate))"
   ]
  },
  {
   "cell_type": "markdown",
   "metadata": {},
   "source": [
    "# Binary trees"
   ]
  },
  {
   "cell_type": "markdown",
   "metadata": {},
   "source": [
    "The following problems deal with functions on binary trees. This data structure can be defined as the following algebraic data type:"
   ]
  },
  {
   "cell_type": "code",
   "execution_count": 2,
   "metadata": {},
   "outputs": [
    {
     "data": {
      "text/plain": [
       "defined \u001b[32mclass\u001b[39m \u001b[36mTree\u001b[39m\r\n",
       "defined \u001b[32mclass\u001b[39m \u001b[36mEmpty\u001b[39m\r\n",
       "defined \u001b[32mclass\u001b[39m \u001b[36mNode\u001b[39m"
      ]
     },
     "execution_count": 2,
     "metadata": {},
     "output_type": "execute_result"
    }
   ],
   "source": [
    "// type Tree[A] = 1 + Tree[A] * A * Tree[A]\n",
    "\n",
    "sealed abstract class Tree[A]\n",
    "case class Empty[A]() extends Tree[A]\n",
    "case class Node[A](left: Tree[A], root: A, right: Tree[A]) extends Tree[A]"
   ]
  },
  {
   "cell_type": "markdown",
   "metadata": {},
   "source": [
    "The companion object defines some smart constructors that will allow us to write test cases more easily."
   ]
  },
  {
   "cell_type": "code",
   "execution_count": 3,
   "metadata": {},
   "outputs": [
    {
     "data": {
      "text/plain": [
       "defined \u001b[32mobject\u001b[39m \u001b[36mTree\u001b[39m\r\n",
       "\u001b[32mimport \u001b[39m\u001b[36mTree._\u001b[39m"
      ]
     },
     "execution_count": 3,
     "metadata": {},
     "output_type": "execute_result"
    }
   ],
   "source": [
    "object Tree{\n",
    "    \n",
    "    def void[A]: Tree[A] = \n",
    "        Empty()\n",
    "    \n",
    "    def leaf[A](a: A): Node[A] = \n",
    "        Node(Empty(), a, Empty())\n",
    "    \n",
    "    def right[A](a: A, tree: Tree[A]): Node[A] = \n",
    "        Node(Empty(), a, tree)\n",
    "    \n",
    "    def left[A](tree: Tree[A], a: A): Node[A] = \n",
    "        Node(tree, a, Empty())\n",
    "    \n",
    "    def node[A](left: Tree[A], a: A, right: Tree[A]): Node[A] = \n",
    "        Node(left, a, right)\n",
    "}\n",
    "\n",
    "import Tree._"
   ]
  },
  {
   "cell_type": "markdown",
   "metadata": {},
   "source": [
    "# Problem 8"
   ]
  },
  {
   "cell_type": "markdown",
   "metadata": {},
   "source": [
    "Create a function that computes the number of nodes a tree."
   ]
  },
  {
   "cell_type": "code",
   "execution_count": 54,
   "metadata": {},
   "outputs": [
    {
     "data": {
      "text/plain": [
       "defined \u001b[32mclass\u001b[39m \u001b[36mTestTreeNumNodes\u001b[39m"
      ]
     },
     "execution_count": 54,
     "metadata": {},
     "output_type": "execute_result"
    }
   ],
   "source": [
    "class TestTreeNumNodes(\n",
    "    numNodes: Tree[Int] => Int\n",
    ") extends FlatSpec with Matchers {\n",
    "    \n",
    "    \"concatenate\" should \"work\" in {\n",
    "        numNodes(void) shouldBe 0\n",
    "        numNodes(leaf(1)) shouldBe 1\n",
    "        numNodes(left(leaf(1), 2)) shouldBe 2\n",
    "        numNodes(node(leaf(1), 2, leaf(3))) shouldBe 3\n",
    "    }\n",
    "}"
   ]
  },
  {
   "cell_type": "code",
   "execution_count": 55,
   "metadata": {},
   "outputs": [
    {
     "data": {
      "text/plain": [
       "defined \u001b[32mfunction\u001b[39m \u001b[36mnumNodes\u001b[39m"
      ]
     },
     "execution_count": 55,
     "metadata": {},
     "output_type": "execute_result"
    }
   ],
   "source": [
    "def numNodes[A](tree: Tree[A]): Int = \n",
    "    tree match{\n",
    "        case Empty() => 0\n",
    "        case Node(l,e,r) =>\n",
    "            val numNIz =  numNodes(l)\n",
    "            val numNDr = numNodes(r)\n",
    "            numNIz + 1 + numNDr\n",
    "    }"
   ]
  },
  {
   "cell_type": "code",
   "execution_count": 56,
   "metadata": {},
   "outputs": [
    {
     "name": "stdout",
     "output_type": "stream",
     "text": [
      "\u001b[32mcmd53$Helper$TestTreeNumNodes:\u001b[0m\n",
      "\u001b[32mconcatenate\u001b[0m\n",
      "\u001b[32m- should work\u001b[0m\n"
     ]
    }
   ],
   "source": [
    "run(new TestTreeNumNodes(numNodes))"
   ]
  },
  {
   "cell_type": "markdown",
   "metadata": {},
   "source": [
    "# Problem 9"
   ]
  },
  {
   "cell_type": "markdown",
   "metadata": {},
   "source": [
    "Create a function that calculates the _height_ of a tree, which is defined as the depth of its deepest node (the depth of a node, in turn, is the number of edges from that node to the root of the tree). An empty tree doesn't have any nodes, so it doesn't have height either. "
   ]
  },
  {
   "cell_type": "code",
   "execution_count": 16,
   "metadata": {},
   "outputs": [
    {
     "data": {
      "text/plain": [
       "defined \u001b[32mclass\u001b[39m \u001b[36mTestTreeHeight\u001b[39m"
      ]
     },
     "execution_count": 16,
     "metadata": {},
     "output_type": "execute_result"
    }
   ],
   "source": [
    "class TestTreeHeight(\n",
    "    height: Node[Int] => Int\n",
    ") extends FlatSpec with Matchers {\n",
    "    \n",
    "    \"concatenate\" should \"work\" in {\n",
    "        height(leaf(1)) shouldBe 0\n",
    "        height(left(leaf(1),2)) shouldBe 1\n",
    "        height(node(leaf(1), 2, leaf(3))) shouldBe 1\n",
    "        height(left(left(leaf(3),2),1)) shouldBe 2\n",
    "    }\n",
    "}"
   ]
  },
  {
   "cell_type": "markdown",
   "metadata": {},
   "source": [
    "Hint: use the Scala [`max`](https://www.scala-lang.org/api/current/scala/Int.html#max(that:Int):Int) method of the `Int` class to calculate the maximum of two numbers."
   ]
  },
  {
   "cell_type": "code",
   "execution_count": 18,
   "metadata": {},
   "outputs": [
    {
     "data": {
      "text/plain": [
       "defined \u001b[32mfunction\u001b[39m \u001b[36mheight\u001b[39m"
      ]
     },
     "execution_count": 18,
     "metadata": {},
     "output_type": "execute_result"
    }
   ],
   "source": [
    "def height[A](tree: Node[A]): Int = \n",
    "    tree match {\n",
    "        case Node(Empty(), _, Empty()) => 0\n",
    "        case Node(l: Node[A],_,r)=>\n",
    "            (height(l)) + 1\n",
    "        case Node(l, _, r: Node[A]) =>\n",
    "            (height(r)) + 1\n",
    "        case Node(l: Node[A], _, r: Node[A]) =>\n",
    "            height(l).max(height(r)) + 1\n",
    "    }"
   ]
  },
  {
   "cell_type": "code",
   "execution_count": 19,
   "metadata": {},
   "outputs": [
    {
     "name": "stdout",
     "output_type": "stream",
     "text": [
      "\u001b[32mcmd15$Helper$TestTreeHeight:\u001b[0m\n",
      "\u001b[32mconcatenate\u001b[0m\n",
      "\u001b[32m- should work\u001b[0m\n"
     ]
    }
   ],
   "source": [
    "run(new TestTreeHeight(height))"
   ]
  },
  {
   "cell_type": "markdown",
   "metadata": {},
   "source": [
    "# Problem 10"
   ]
  },
  {
   "cell_type": "markdown",
   "metadata": {},
   "source": [
    "A degenerate tree is a tree whose nodes only have a child at most. Create a function that determines whether a tree is degenerate or not."
   ]
  },
  {
   "cell_type": "code",
   "execution_count": 33,
   "metadata": {},
   "outputs": [
    {
     "data": {
      "text/plain": [
       "defined \u001b[32mclass\u001b[39m \u001b[36mTestIsDegenerate\u001b[39m"
      ]
     },
     "execution_count": 33,
     "metadata": {},
     "output_type": "execute_result"
    }
   ],
   "source": [
    "class TestIsDegenerate(\n",
    "    isDegenerate: Tree[Int] => Boolean\n",
    ") extends FlatSpec with Matchers {\n",
    "    \n",
    "    \"isDegenerate\" should \"work\" in {\n",
    "        isDegenerate(void) shouldBe true\n",
    "        isDegenerate(leaf(1)) shouldBe true\n",
    "        isDegenerate(left(leaf(1), 2)) shouldBe true\n",
    "        isDegenerate(right(2, leaf(1)))  shouldBe true\n",
    "        isDegenerate(node(leaf(1), 2, leaf(3))) shouldBe false\n",
    "        isDegenerate(left(left(leaf(3), 2), 1)) shouldBe true\n",
    "        isDegenerate(left(right(2, left(right(4, leaf(5)), 3)),1)) shouldBe true\n",
    "        isDegenerate(left(node(leaf(3), 2, leaf(3)), 1)) shouldBe false\n",
    "    }\n",
    "}"
   ]
  },
  {
   "cell_type": "code",
   "execution_count": 39,
   "metadata": {},
   "outputs": [
    {
     "data": {
      "text/plain": [
       "defined \u001b[32mfunction\u001b[39m \u001b[36misDegenerate\u001b[39m"
      ]
     },
     "execution_count": 39,
     "metadata": {},
     "output_type": "execute_result"
    }
   ],
   "source": [
    "def isDegenerate[A](tree: Tree[A]): Boolean = \n",
    "    tree match {\n",
    "        case Empty() => true\n",
    "        case Node(Empty(), a, Empty()) => true\n",
    "        case Node(l, a, Empty()) => isDegenerate(l)\n",
    "        case Node(Empty(), a, r) => isDegenerate(r)\n",
    "        case Node(l, a, r) => false\n",
    "        //isDegenerate(l) && isDegenerate(r)\n",
    "    }"
   ]
  },
  {
   "cell_type": "code",
   "execution_count": 40,
   "metadata": {},
   "outputs": [
    {
     "name": "stdout",
     "output_type": "stream",
     "text": [
      "\u001b[32mcmd32$Helper$TestIsDegenerate:\u001b[0m\n",
      "\u001b[32misDegenerate\u001b[0m\n",
      "\u001b[32m- should work\u001b[0m\n"
     ]
    }
   ],
   "source": [
    "run(new TestIsDegenerate(isDegenerate))"
   ]
  },
  {
   "cell_type": "markdown",
   "metadata": {},
   "source": [
    "# Problem 11"
   ]
  },
  {
   "cell_type": "markdown",
   "metadata": {},
   "source": [
    "Write a function that returns the leaves of a tree. The leafs of any left child must be placed in the list before any leaf from its right sibling. "
   ]
  },
  {
   "cell_type": "code",
   "execution_count": 7,
   "metadata": {},
   "outputs": [
    {
     "data": {
      "text/plain": [
       "defined \u001b[32mclass\u001b[39m \u001b[36mTestLeaves\u001b[39m"
      ]
     },
     "execution_count": 7,
     "metadata": {},
     "output_type": "execute_result"
    }
   ],
   "source": [
    "class TestLeaves(\n",
    "    leaves: Tree[Int] => List[Int]\n",
    ") extends FlatSpec with Matchers {\n",
    "    \n",
    "    \"Leaves\" should \"work\" in {\n",
    "        leaves(void) shouldBe List()\n",
    "        leaves(leaf(1)) shouldBe List(1)\n",
    "        leaves(left(leaf(1), 2)) shouldBe List(1)\n",
    "        leaves(right(2, leaf(1)))  shouldBe List(1)\n",
    "        leaves(node(leaf(1), 2, leaf(3))) shouldBe List(1,3)\n",
    "        leaves(left(left(leaf(3), 2), 1)) shouldBe List(3)\n",
    "        leaves(left(right(2, left(right(4, leaf(5)), 3)),1)) shouldBe List(5)\n",
    "        leaves(left(node(leaf(3), 2, leaf(3)), 1)) shouldBe List(3,3)\n",
    "        leaves(node(node(leaf(1),2,leaf(3)),4,node(leaf(5),6,leaf(7)))) shouldBe\n",
    "            List(1,3,5,7)\n",
    "    }\n",
    "}"
   ]
  },
  {
   "cell_type": "markdown",
   "metadata": {},
   "source": [
    "Hint: use the [`++`](https://www.scala-lang.org/api/current/scala/collection/immutable/List.html#++[B%3E:A](suffix:scala.collection.IterableOnce[B]):CC[B]) method of the `List` class to concatenate lists."
   ]
  },
  {
   "cell_type": "code",
   "execution_count": 13,
   "metadata": {},
   "outputs": [
    {
     "data": {
      "text/plain": [
       "defined \u001b[32mfunction\u001b[39m \u001b[36mleaves\u001b[39m"
      ]
     },
     "execution_count": 13,
     "metadata": {},
     "output_type": "execute_result"
    }
   ],
   "source": [
    "def leaves[A](tree: Tree[A]): List[A] = \n",
    "    tree match {\n",
    "        case Empty() => List()\n",
    "        case Node(Empty(), a, Empty()) => List(a)\n",
    "        case Node(l, a, r) =>\n",
    "            leaves(l) ++ leaves(r)\n",
    "    }"
   ]
  },
  {
   "cell_type": "code",
   "execution_count": 14,
   "metadata": {},
   "outputs": [
    {
     "name": "stdout",
     "output_type": "stream",
     "text": [
      "\u001b[32mcmd6$Helper$TestLeaves:\u001b[0m\n",
      "\u001b[32mLeaves\u001b[0m\n",
      "\u001b[32m- should work\u001b[0m\n"
     ]
    }
   ],
   "source": [
    "run(new TestLeaves(leaves))"
   ]
  },
  {
   "cell_type": "markdown",
   "metadata": {},
   "source": [
    "# Problem 12"
   ]
  },
  {
   "cell_type": "markdown",
   "metadata": {},
   "source": [
    "This problem deals with [_tree traversals_](https://en.wikipedia.org/wiki/Tree_traversal). "
   ]
  },
  {
   "cell_type": "markdown",
   "metadata": {},
   "source": [
    "Hint: use the [`++`](https://www.scala-lang.org/api/current/scala/collection/immutable/List.html#++[B%3E:A](suffix:scala.collection.IterableOnce[B]):CC[B]) method of the `List` class to concatenate lists."
   ]
  },
  {
   "cell_type": "markdown",
   "metadata": {},
   "source": [
    "#### Part a) Write a function that creates the pre-order of a binary tree."
   ]
  },
  {
   "cell_type": "code",
   "execution_count": null,
   "metadata": {},
   "outputs": [],
   "source": [
    "class TestPreorder(\n",
    "    preorder: Tree[Int] => List[Int]\n",
    ") extends FlatSpec with Matchers {\n",
    "    \n",
    "    \"preorder\" should \"work\" in {\n",
    "        preorder(void) shouldBe List()\n",
    "        preorder(leaf(1)) shouldBe List(1)\n",
    "        preorder(left(leaf(1), 2)) shouldBe List(2,1)\n",
    "        preorder(right(2, leaf(1)))  shouldBe List(2,1)\n",
    "        preorder(node(leaf(1), 2, leaf(3))) shouldBe List(2,1,3)\n",
    "        preorder(left(left(leaf(3), 2), 1)) shouldBe List(1,2,3)\n",
    "        preorder(left(right(2, left(right(4, leaf(5)), 3)),1)) shouldBe \n",
    "            List(1,2,3,4,5)\n",
    "        preorder(left(node(leaf(3), 2, leaf(4)), 1)) shouldBe \n",
    "            List(1,2,3,4)\n",
    "        preorder(node(node(leaf(1),2,leaf(3)),4,node(leaf(5),6,leaf(7)))) shouldBe\n",
    "            List(4,2,1,3,6,5,7)\n",
    "    }\n",
    "}"
   ]
  },
  {
   "cell_type": "code",
   "execution_count": null,
   "metadata": {},
   "outputs": [],
   "source": [
    "def preorder[A](tree: Tree[A]): List[A] = \n",
    "    ???"
   ]
  },
  {
   "cell_type": "code",
   "execution_count": null,
   "metadata": {},
   "outputs": [],
   "source": [
    "run(new TestPreorder(preorder))"
   ]
  },
  {
   "cell_type": "markdown",
   "metadata": {},
   "source": [
    "#### Part b) Write a function that returns the in-order of a binary tree"
   ]
  },
  {
   "cell_type": "code",
   "execution_count": null,
   "metadata": {},
   "outputs": [],
   "source": [
    "class TestInorder(\n",
    "    inorder: Tree[Int] => List[Int]\n",
    ") extends FlatSpec with Matchers {\n",
    "    \n",
    "    \"preorder\" should \"work\" in {\n",
    "        inorder(void) shouldBe List()\n",
    "        inorder(leaf(1)) shouldBe List(1)\n",
    "        inorder(left(leaf(1), 2)) shouldBe List(1,2)\n",
    "        inorder(right(2, leaf(1)))  shouldBe List(2,1)\n",
    "        inorder(node(leaf(1), 2, leaf(3))) shouldBe List(1,2,3)\n",
    "        inorder(left(left(leaf(3), 2), 1)) shouldBe List(3,2,1)\n",
    "        inorder(left(right(2, left(right(4, leaf(5)), 3)),1)) shouldBe \n",
    "            List(2,4,5,3,1)\n",
    "        inorder(left(node(leaf(3), 2, leaf(4)), 1)) shouldBe \n",
    "            List(3,2,4,1)\n",
    "        inorder(node(node(leaf(1),2,leaf(3)),4,node(leaf(5),6,leaf(7)))) shouldBe\n",
    "            List(1,2,3,4,5,6,7)\n",
    "    }\n",
    "}"
   ]
  },
  {
   "cell_type": "code",
   "execution_count": null,
   "metadata": {},
   "outputs": [],
   "source": [
    "def inorder[A](tree: Tree[A]): List[A] = \n",
    "    ???"
   ]
  },
  {
   "cell_type": "code",
   "execution_count": null,
   "metadata": {},
   "outputs": [],
   "source": [
    "run(new TestInorder(inorder))"
   ]
  },
  {
   "cell_type": "markdown",
   "metadata": {},
   "source": [
    "#### Part c) Write a function that returns post-order of a binary tree"
   ]
  },
  {
   "cell_type": "code",
   "execution_count": null,
   "metadata": {},
   "outputs": [],
   "source": [
    "class TestPostorder(\n",
    "    postorder: Tree[Int] => List[Int]\n",
    ") extends FlatSpec with Matchers {\n",
    "    \n",
    "    \"postorder\" should \"work\" in {\n",
    "        postorder(void) shouldBe List()\n",
    "        postorder(leaf(1)) shouldBe List(1)\n",
    "        postorder(left(leaf(1), 2)) shouldBe List(1,2)\n",
    "        postorder(right(2, leaf(1)))  shouldBe List(1,2)\n",
    "        postorder(node(leaf(1), 2, leaf(3))) shouldBe List(1,3,2)\n",
    "        postorder(left(left(leaf(3), 2), 1)) shouldBe List(3,2,1)\n",
    "        postorder(left(right(2, left(right(4, leaf(5)), 3)),1)) shouldBe \n",
    "            List(5,4,3,2,1)\n",
    "        postorder(left(node(leaf(3), 2, leaf(4)), 1)) shouldBe \n",
    "            List(3,4,2,1)\n",
    "        postorder(node(node(leaf(1),2,leaf(3)),4,node(leaf(5),6,leaf(7)))) shouldBe\n",
    "            List(1,3,2,5,7,6,4)\n",
    "    }\n",
    "}"
   ]
  },
  {
   "cell_type": "code",
   "execution_count": null,
   "metadata": {},
   "outputs": [],
   "source": [
    "def postorder[A](tree: Tree[A]): List[A] = \n",
    "    ???"
   ]
  },
  {
   "cell_type": "code",
   "execution_count": null,
   "metadata": {},
   "outputs": [],
   "source": [
    "run(new TestPostorder(postorder))"
   ]
  },
  {
   "cell_type": "markdown",
   "metadata": {},
   "source": [
    "# Problem 13"
   ]
  },
  {
   "cell_type": "code",
   "execution_count": 62,
   "metadata": {},
   "outputs": [
    {
     "data": {
      "text/plain": [
       "defined \u001b[32mobject\u001b[39m \u001b[36mTree\u001b[39m\r\n",
       "\u001b[32mimport \u001b[39m\u001b[36mTree._\u001b[39m"
      ]
     },
     "execution_count": 62,
     "metadata": {},
     "output_type": "execute_result"
    }
   ],
   "source": [
    "object Tree{\n",
    "    \n",
    "    def void[A]: Tree[A] = \n",
    "        Empty()\n",
    "    \n",
    "    def leaf[A](a: A): Node[A] = \n",
    "        Node(Empty(), a, Empty())\n",
    "    \n",
    "    def right[A](a: A, tree: Tree[A]): Node[A] = \n",
    "        Node(Empty(), a, tree)\n",
    "    \n",
    "    def left[A](tree: Tree[A], a: A): Node[A] = \n",
    "        Node(tree, a, Empty())\n",
    "    \n",
    "    def node[A](left: Tree[A], a: A, right: Tree[A]): Node[A] = \n",
    "        Node(left, a, right)\n",
    "}\n",
    "\n",
    "import Tree._"
   ]
  },
  {
   "cell_type": "markdown",
   "metadata": {},
   "source": [
    "Given a tree whose nodes are tuples of integers, write a function that returns a tree of the same shape that contains the sum of the numbers for each node."
   ]
  },
  {
   "cell_type": "code",
   "execution_count": 63,
   "metadata": {},
   "outputs": [
    {
     "data": {
      "text/plain": [
       "defined \u001b[32mclass\u001b[39m \u001b[36mTestSum\u001b[39m"
      ]
     },
     "execution_count": 63,
     "metadata": {},
     "output_type": "execute_result"
    }
   ],
   "source": [
    "class TestSum(\n",
    "    sum: Tree[(Int, Int)] => Tree[Int]\n",
    ") extends FlatSpec with Matchers {\n",
    "    \n",
    "    \"sum\" should \"work\" in {\n",
    "        sum(void) shouldBe \n",
    "            void\n",
    "        sum(leaf((1,1))) shouldBe \n",
    "            leaf(2)\n",
    "        sum(left(leaf((1,3)), (2,5))) shouldBe \n",
    "            left(leaf(4), 7)\n",
    "        sum(right((0,2), leaf((-1,2)))) shouldBe \n",
    "            right(2, leaf(1))\n",
    "        sum(left(left(leaf((-3,6)), (2,0)), (-5,6))) shouldBe \n",
    "            left(left(leaf(3), 2), 1)\n",
    "    }\n",
    "}"
   ]
  },
  {
   "cell_type": "code",
   "execution_count": 67,
   "metadata": {},
   "outputs": [
    {
     "name": "stderr",
     "output_type": "stream",
     "text": [
      "cmd67.sc:3: type mismatch;\n",
      " found   : cmd67.this.cmd51.Tree[(Int, Int)]\n",
      " required: cmd67.this.cmd51.Tree[Int]\n",
      "        case void => tree\n",
      "                     ^Compilation Failed"
     ]
    },
    {
     "ename": "",
     "evalue": "",
     "output_type": "error",
     "traceback": [
      "Compilation Failed"
     ]
    }
   ],
   "source": [
    "def sum(tree: Tree[(Int, Int)]): Tree[Int] = \n",
    "    tree match{\n",
    "        case void => tree\n",
    "        case Node(l,a,r) => \n",
    "            val left: Tree[Int] = sum(l)\n",
    "            val right: Tree[Int] = sum(r)\n",
    "            Node(left, (a._1 + a._2), right)\n",
    "    }"
   ]
  },
  {
   "cell_type": "code",
   "execution_count": 67,
   "metadata": {},
   "outputs": [
    {
     "name": "stdout",
     "output_type": "stream",
     "text": [
      "\u001b[32mcmd62$Helper$TestSum:\u001b[0m\n",
      "\u001b[32msum\u001b[0m\n",
      "\u001b[31m- should work *** FAILED ***\u001b[0m\n",
      "\u001b[31m  Empty() was not equal to Node(Empty(),2,Empty()) (cmd62.sc:8)\u001b[0m\n"
     ]
    }
   ],
   "source": [
    "run(new TestSum(sum))"
   ]
  }
 ],
 "metadata": {
  "kernelspec": {
   "display_name": "Scala",
   "language": "scala",
   "name": "scala"
  },
  "language_info": {
   "codemirror_mode": "text/x-scala",
   "file_extension": ".scala",
   "mimetype": "text/x-scala",
   "name": "scala",
   "nbconvert_exporter": "script",
   "version": "2.12.11"
  }
 },
 "nbformat": 4,
 "nbformat_minor": 2
}
